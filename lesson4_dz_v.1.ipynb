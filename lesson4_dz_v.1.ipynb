{
 "cells": [
  {
   "cell_type": "markdown",
   "id": "06becacf",
   "metadata": {},
   "source": [
    "Тема “Обучение без учителя”\n",
    "Задание 1\n",
    "Импортируйте библиотеки pandas, numpy и matplotlib.\n",
    "Загрузите \"Boston House Prices dataset\" из встроенных наборов \n",
    "данных библиотеки sklearn.\n",
    "Создайте датафреймы X и y из этих данных.\n",
    "Разбейте эти датафреймы на тренировочные (X_train, y_train) и тестовые (X_test, y_test)\n",
    "с помощью функции train_test_split так, чтобы размер тестовой выборки\n",
    "составлял 20% от всех данных, при этом аргумент random_state должен быть равен 42.\n",
    "Масштабируйте данные с помощью StandardScaler.\n",
    "Постройте модель TSNE на тренировочный данных с параметрами:\n",
    "n_components=2, learning_rate=250, random_state=42.\n",
    "Постройте диаграмму рассеяния на этих данных.\n"
   ]
  },
  {
   "cell_type": "code",
   "execution_count": 19,
   "id": "39bd0d5b",
   "metadata": {},
   "outputs": [],
   "source": [
    "from sklearn.datasets import load_boston\n",
    "import pandas as pd"
   ]
  },
  {
   "cell_type": "code",
   "execution_count": 20,
   "id": "7932f0f3",
   "metadata": {},
   "outputs": [],
   "source": [
    "boston = load_boston()"
   ]
  },
  {
   "cell_type": "code",
   "execution_count": 21,
   "id": "2e643822",
   "metadata": {},
   "outputs": [
    {
     "name": "stdout",
     "output_type": "stream",
     "text": [
      ".. _boston_dataset:\n",
      "\n",
      "Boston house prices dataset\n",
      "---------------------------\n",
      "\n",
      "**Data Set Characteristics:**  \n",
      "\n",
      "    :Number of Instances: 506 \n",
      "\n",
      "    :Number of Attributes: 13 numeric/categorical predictive. Median Value (attribute 14) is usually the target.\n",
      "\n",
      "    :Attribute Information (in order):\n",
      "        - CRIM     per capita crime rate by town\n",
      "        - ZN       proportion of residential land zoned for lots over 25,000 sq.ft.\n",
      "        - INDUS    proportion of non-retail business acres per town\n",
      "        - CHAS     Charles River dummy variable (= 1 if tract bounds river; 0 otherwise)\n",
      "        - NOX      nitric oxides concentration (parts per 10 million)\n",
      "        - RM       average number of rooms per dwelling\n",
      "        - AGE      proportion of owner-occupied units built prior to 1940\n",
      "        - DIS      weighted distances to five Boston employment centres\n",
      "        - RAD      index of accessibility to radial highways\n",
      "        - TAX      full-value property-tax rate per $10,000\n",
      "        - PTRATIO  pupil-teacher ratio by town\n",
      "        - B        1000(Bk - 0.63)^2 where Bk is the proportion of black people by town\n",
      "        - LSTAT    % lower status of the population\n",
      "        - MEDV     Median value of owner-occupied homes in $1000's\n",
      "\n",
      "    :Missing Attribute Values: None\n",
      "\n",
      "    :Creator: Harrison, D. and Rubinfeld, D.L.\n",
      "\n",
      "This is a copy of UCI ML housing dataset.\n",
      "https://archive.ics.uci.edu/ml/machine-learning-databases/housing/\n",
      "\n",
      "\n",
      "This dataset was taken from the StatLib library which is maintained at Carnegie Mellon University.\n",
      "\n",
      "The Boston house-price data of Harrison, D. and Rubinfeld, D.L. 'Hedonic\n",
      "prices and the demand for clean air', J. Environ. Economics & Management,\n",
      "vol.5, 81-102, 1978.   Used in Belsley, Kuh & Welsch, 'Regression diagnostics\n",
      "...', Wiley, 1980.   N.B. Various transformations are used in the table on\n",
      "pages 244-261 of the latter.\n",
      "\n",
      "The Boston house-price data has been used in many machine learning papers that address regression\n",
      "problems.   \n",
      "     \n",
      ".. topic:: References\n",
      "\n",
      "   - Belsley, Kuh & Welsch, 'Regression diagnostics: Identifying Influential Data and Sources of Collinearity', Wiley, 1980. 244-261.\n",
      "   - Quinlan,R. (1993). Combining Instance-Based and Model-Based Learning. In Proceedings on the Tenth International Conference of Machine Learning, 236-243, University of Massachusetts, Amherst. Morgan Kaufmann.\n",
      "\n"
     ]
    }
   ],
   "source": [
    "for line in boston.DESCR.split('\\n'):\n",
    "    print(line)"
   ]
  },
  {
   "cell_type": "code",
   "execution_count": 22,
   "id": "adaaf68d",
   "metadata": {},
   "outputs": [],
   "source": [
    "data = boston.data"
   ]
  },
  {
   "cell_type": "code",
   "execution_count": 23,
   "id": "d7f7d11f",
   "metadata": {},
   "outputs": [],
   "source": [
    "feature_names = boston.feature_names"
   ]
  },
  {
   "cell_type": "code",
   "execution_count": 24,
   "id": "c8d13fc0",
   "metadata": {},
   "outputs": [],
   "source": [
    "x = pd.DataFrame(data, columns=feature_names)"
   ]
  },
  {
   "cell_type": "code",
   "execution_count": 25,
   "id": "2fdfee57",
   "metadata": {},
   "outputs": [
    {
     "data": {
      "text/html": [
       "<div>\n",
       "<style scoped>\n",
       "    .dataframe tbody tr th:only-of-type {\n",
       "        vertical-align: middle;\n",
       "    }\n",
       "\n",
       "    .dataframe tbody tr th {\n",
       "        vertical-align: top;\n",
       "    }\n",
       "\n",
       "    .dataframe thead th {\n",
       "        text-align: right;\n",
       "    }\n",
       "</style>\n",
       "<table border=\"1\" class=\"dataframe\">\n",
       "  <thead>\n",
       "    <tr style=\"text-align: right;\">\n",
       "      <th></th>\n",
       "      <th>CRIM</th>\n",
       "      <th>ZN</th>\n",
       "      <th>INDUS</th>\n",
       "      <th>CHAS</th>\n",
       "      <th>NOX</th>\n",
       "      <th>RM</th>\n",
       "      <th>AGE</th>\n",
       "      <th>DIS</th>\n",
       "      <th>RAD</th>\n",
       "      <th>TAX</th>\n",
       "      <th>PTRATIO</th>\n",
       "      <th>B</th>\n",
       "      <th>LSTAT</th>\n",
       "    </tr>\n",
       "  </thead>\n",
       "  <tbody>\n",
       "    <tr>\n",
       "      <th>0</th>\n",
       "      <td>0.00632</td>\n",
       "      <td>18.0</td>\n",
       "      <td>2.31</td>\n",
       "      <td>0.0</td>\n",
       "      <td>0.538</td>\n",
       "      <td>6.575</td>\n",
       "      <td>65.2</td>\n",
       "      <td>4.0900</td>\n",
       "      <td>1.0</td>\n",
       "      <td>296.0</td>\n",
       "      <td>15.3</td>\n",
       "      <td>396.90</td>\n",
       "      <td>4.98</td>\n",
       "    </tr>\n",
       "    <tr>\n",
       "      <th>1</th>\n",
       "      <td>0.02731</td>\n",
       "      <td>0.0</td>\n",
       "      <td>7.07</td>\n",
       "      <td>0.0</td>\n",
       "      <td>0.469</td>\n",
       "      <td>6.421</td>\n",
       "      <td>78.9</td>\n",
       "      <td>4.9671</td>\n",
       "      <td>2.0</td>\n",
       "      <td>242.0</td>\n",
       "      <td>17.8</td>\n",
       "      <td>396.90</td>\n",
       "      <td>9.14</td>\n",
       "    </tr>\n",
       "    <tr>\n",
       "      <th>2</th>\n",
       "      <td>0.02729</td>\n",
       "      <td>0.0</td>\n",
       "      <td>7.07</td>\n",
       "      <td>0.0</td>\n",
       "      <td>0.469</td>\n",
       "      <td>7.185</td>\n",
       "      <td>61.1</td>\n",
       "      <td>4.9671</td>\n",
       "      <td>2.0</td>\n",
       "      <td>242.0</td>\n",
       "      <td>17.8</td>\n",
       "      <td>392.83</td>\n",
       "      <td>4.03</td>\n",
       "    </tr>\n",
       "    <tr>\n",
       "      <th>3</th>\n",
       "      <td>0.03237</td>\n",
       "      <td>0.0</td>\n",
       "      <td>2.18</td>\n",
       "      <td>0.0</td>\n",
       "      <td>0.458</td>\n",
       "      <td>6.998</td>\n",
       "      <td>45.8</td>\n",
       "      <td>6.0622</td>\n",
       "      <td>3.0</td>\n",
       "      <td>222.0</td>\n",
       "      <td>18.7</td>\n",
       "      <td>394.63</td>\n",
       "      <td>2.94</td>\n",
       "    </tr>\n",
       "    <tr>\n",
       "      <th>4</th>\n",
       "      <td>0.06905</td>\n",
       "      <td>0.0</td>\n",
       "      <td>2.18</td>\n",
       "      <td>0.0</td>\n",
       "      <td>0.458</td>\n",
       "      <td>7.147</td>\n",
       "      <td>54.2</td>\n",
       "      <td>6.0622</td>\n",
       "      <td>3.0</td>\n",
       "      <td>222.0</td>\n",
       "      <td>18.7</td>\n",
       "      <td>396.90</td>\n",
       "      <td>5.33</td>\n",
       "    </tr>\n",
       "  </tbody>\n",
       "</table>\n",
       "</div>"
      ],
      "text/plain": [
       "      CRIM    ZN  INDUS  CHAS    NOX     RM   AGE     DIS  RAD    TAX  \\\n",
       "0  0.00632  18.0   2.31   0.0  0.538  6.575  65.2  4.0900  1.0  296.0   \n",
       "1  0.02731   0.0   7.07   0.0  0.469  6.421  78.9  4.9671  2.0  242.0   \n",
       "2  0.02729   0.0   7.07   0.0  0.469  7.185  61.1  4.9671  2.0  242.0   \n",
       "3  0.03237   0.0   2.18   0.0  0.458  6.998  45.8  6.0622  3.0  222.0   \n",
       "4  0.06905   0.0   2.18   0.0  0.458  7.147  54.2  6.0622  3.0  222.0   \n",
       "\n",
       "   PTRATIO       B  LSTAT  \n",
       "0     15.3  396.90   4.98  \n",
       "1     17.8  396.90   9.14  \n",
       "2     17.8  392.83   4.03  \n",
       "3     18.7  394.63   2.94  \n",
       "4     18.7  396.90   5.33  "
      ]
     },
     "execution_count": 25,
     "metadata": {},
     "output_type": "execute_result"
    }
   ],
   "source": [
    "x.head()"
   ]
  },
  {
   "cell_type": "code",
   "execution_count": 26,
   "id": "7157d9c9",
   "metadata": {},
   "outputs": [
    {
     "name": "stdout",
     "output_type": "stream",
     "text": [
      "<class 'pandas.core.frame.DataFrame'>\n",
      "RangeIndex: 506 entries, 0 to 505\n",
      "Data columns (total 13 columns):\n",
      " #   Column   Non-Null Count  Dtype  \n",
      "---  ------   --------------  -----  \n",
      " 0   CRIM     506 non-null    float64\n",
      " 1   ZN       506 non-null    float64\n",
      " 2   INDUS    506 non-null    float64\n",
      " 3   CHAS     506 non-null    float64\n",
      " 4   NOX      506 non-null    float64\n",
      " 5   RM       506 non-null    float64\n",
      " 6   AGE      506 non-null    float64\n",
      " 7   DIS      506 non-null    float64\n",
      " 8   RAD      506 non-null    float64\n",
      " 9   TAX      506 non-null    float64\n",
      " 10  PTRATIO  506 non-null    float64\n",
      " 11  B        506 non-null    float64\n",
      " 12  LSTAT    506 non-null    float64\n",
      "dtypes: float64(13)\n",
      "memory usage: 51.5 KB\n"
     ]
    }
   ],
   "source": [
    "x.info()"
   ]
  },
  {
   "cell_type": "code",
   "execution_count": 27,
   "id": "b9154126",
   "metadata": {},
   "outputs": [],
   "source": [
    "price = boston.target"
   ]
  },
  {
   "cell_type": "code",
   "execution_count": 31,
   "id": "d21cc2c4",
   "metadata": {},
   "outputs": [],
   "source": [
    "from sklearn.model_selection import train_test_split\n",
    "x_train, x_test, y_train, y_test, = train_test_split(x, price, test_size=0.3, random_state = 7)"
   ]
  },
  {
   "cell_type": "code",
   "execution_count": 32,
   "id": "4b943b30",
   "metadata": {},
   "outputs": [
    {
     "data": {
      "text/plain": [
       "((354, 13), (152, 13), (354,), (152,))"
      ]
     },
     "execution_count": 32,
     "metadata": {},
     "output_type": "execute_result"
    }
   ],
   "source": [
    "x_train.shape, x_test.shape, y_train.shape, y_test.shape"
   ]
  },
  {
   "cell_type": "markdown",
   "id": "0f80a32b",
   "metadata": {},
   "source": [
    "Масштабирование признаков\n"
   ]
  },
  {
   "cell_type": "code",
   "execution_count": 33,
   "id": "acb7b61a",
   "metadata": {},
   "outputs": [],
   "source": [
    "from sklearn.preprocessing import StandardScaler"
   ]
  },
  {
   "cell_type": "code",
   "execution_count": 34,
   "id": "4b8c4d55",
   "metadata": {},
   "outputs": [],
   "source": [
    "scaler = StandardScaler()"
   ]
  },
  {
   "cell_type": "code",
   "execution_count": 35,
   "id": "7f9c76e9",
   "metadata": {},
   "outputs": [],
   "source": [
    "x_train_scaled = scaler.fit_transform(x_train)"
   ]
  },
  {
   "cell_type": "code",
   "execution_count": 36,
   "id": "9eb189ea",
   "metadata": {},
   "outputs": [],
   "source": [
    "x_test_scaled = scaler.transform(x_test)"
   ]
  },
  {
   "cell_type": "code",
   "execution_count": 37,
   "id": "db548d3d",
   "metadata": {},
   "outputs": [],
   "source": [
    "x_train_scaled = pd.DataFrame(x_train_scaled, columns=feature_names)"
   ]
  },
  {
   "cell_type": "code",
   "execution_count": 38,
   "id": "d2d65d61",
   "metadata": {},
   "outputs": [],
   "source": [
    "x_test_scaled = pd.DataFrame(x_test_scaled, columns=feature_names)"
   ]
  },
  {
   "cell_type": "markdown",
   "id": "69f72e17",
   "metadata": {},
   "source": [
    "Применеие TSNE"
   ]
  },
  {
   "cell_type": "code",
   "execution_count": 41,
   "id": "4e2fbd50",
   "metadata": {},
   "outputs": [],
   "source": [
    "from sklearn.manifold import TSNE\n",
    "tsne = TSNE(n_components=2, learning_rate=250, random_state=42)"
   ]
  },
  {
   "cell_type": "code",
   "execution_count": 42,
   "id": "5e948c7f",
   "metadata": {},
   "outputs": [],
   "source": [
    "x_train_tsne = tsne.fit_transform(x_train_scaled)"
   ]
  },
  {
   "cell_type": "code",
   "execution_count": 43,
   "id": "f47a5e4b",
   "metadata": {},
   "outputs": [
    {
     "data": {
      "text/plain": [
       "array([[ 26.869205  ,  -8.81917   ],\n",
       "       [ 10.168224  ,  -3.6549602 ],\n",
       "       [ 36.45279   , -13.719215  ],\n",
       "       [ 37.46264   , -12.690545  ],\n",
       "       [ 24.143944  , -12.866518  ],\n",
       "       [ -3.6683934 , -10.133095  ],\n",
       "       [ -4.0764155 , -12.5878    ],\n",
       "       [-12.589147  ,   6.9489865 ],\n",
       "       [-13.031749  ,  16.246     ],\n",
       "       [ 28.17853   , -18.435862  ],\n",
       "       [-10.659762  ,  12.729528  ],\n",
       "       [ 24.675234  ,  -8.931879  ],\n",
       "       [ -3.399029  ,   5.1438437 ],\n",
       "       [-10.666058  ,  17.900982  ],\n",
       "       [ 36.753525  , -14.805414  ],\n",
       "       [-13.317644  ,  20.678585  ],\n",
       "       [ -8.530816  ,   2.1181228 ],\n",
       "       [ 36.55406   , -15.472886  ],\n",
       "       [-13.959219  ,  14.891839  ],\n",
       "       [ 27.650583  , -12.424658  ],\n",
       "       [  9.443262  ,  -1.6983263 ],\n",
       "       [ -7.80393   ,  -3.602411  ],\n",
       "       [-10.993274  ,  15.560025  ],\n",
       "       [-14.412467  ,  20.423235  ],\n",
       "       [ 37.718613  , -13.153073  ],\n",
       "       [ -8.73551   ,  -4.874193  ],\n",
       "       [ 23.404127  , -13.934767  ],\n",
       "       [ -4.793339  , -11.736317  ],\n",
       "       [ -8.461571  ,   0.950078  ],\n",
       "       [ -7.0109515 , -12.137174  ],\n",
       "       [  3.0121932 ,  -7.4843106 ],\n",
       "       [ -0.19507268,   2.2884784 ],\n",
       "       [ -3.7300215 , -10.002069  ],\n",
       "       [ -9.530772  ,  22.43374   ],\n",
       "       [-12.833968  ,   9.376654  ],\n",
       "       [-12.175924  ,   8.7737055 ],\n",
       "       [-12.451298  ,   7.7173104 ],\n",
       "       [ 31.914871  , -17.488731  ],\n",
       "       [ 28.00838   , -18.29564   ],\n",
       "       [-13.091457  ,  11.197531  ],\n",
       "       [ -5.0053234 ,   5.917082  ],\n",
       "       [-16.382858  ,   9.935135  ],\n",
       "       [ -6.9238276 , -12.183768  ],\n",
       "       [  2.1665142 ,   4.061248  ],\n",
       "       [ -4.6312275 , -13.337543  ],\n",
       "       [-18.131844  ,  14.451945  ],\n",
       "       [-14.472701  ,   6.315822  ],\n",
       "       [ -1.0166562 ,   8.774292  ],\n",
       "       [ -7.589942  ,   3.9836206 ],\n",
       "       [ -7.4934735 ,   1.800521  ],\n",
       "       [ 34.487064  , -15.314028  ],\n",
       "       [  9.608537  ,  -2.3350945 ],\n",
       "       [-12.884307  ,  19.812912  ],\n",
       "       [  6.1620893 ,   6.4765778 ],\n",
       "       [ -8.378259  ,  -4.6746216 ],\n",
       "       [ -6.2161627 ,   5.2611637 ],\n",
       "       [ -0.05023176,  -4.9932933 ],\n",
       "       [-15.58393   ,  13.770853  ],\n",
       "       [ -1.8939065 ,  -4.4610133 ],\n",
       "       [-16.5392    ,   9.822283  ],\n",
       "       [  9.969529  ,  -0.98909926],\n",
       "       [ -9.027344  ,  -1.3625242 ],\n",
       "       [ -0.7007475 ,   6.150966  ],\n",
       "       [ 25.593225  , -12.2097845 ],\n",
       "       [ -4.9474177 , -11.915923  ],\n",
       "       [ -8.432702  ,   7.9530377 ],\n",
       "       [-16.927326  ,  16.31906   ],\n",
       "       [-16.878458  ,  21.173965  ],\n",
       "       [ 11.854884  ,  -2.023855  ],\n",
       "       [ -7.5826902 ,  -1.2499466 ],\n",
       "       [ -0.6093693 ,   9.977798  ],\n",
       "       [ -7.005114  ,   3.8096642 ],\n",
       "       [ 28.59237   , -17.887186  ],\n",
       "       [  3.400475  ,   6.459642  ],\n",
       "       [-14.658523  ,  22.438845  ],\n",
       "       [-13.27182   ,  21.993643  ],\n",
       "       [ 37.310448  , -14.029838  ],\n",
       "       [ 25.072166  , -11.208546  ],\n",
       "       [  5.3731894 ,   6.245871  ],\n",
       "       [ -7.391585  ,   4.928761  ],\n",
       "       [ -5.2509785 ,   6.0013824 ],\n",
       "       [  2.2319117 ,  -6.5245624 ],\n",
       "       [ -2.3501747 ,   3.07087   ],\n",
       "       [-12.427007  ,  16.317596  ],\n",
       "       [-15.5853    ,  19.15955   ],\n",
       "       [ 28.694988  ,  -5.607253  ],\n",
       "       [-17.65605   ,   8.734611  ],\n",
       "       [ -8.02859   ,  -0.36391306],\n",
       "       [ -5.8827405 ,   4.7401423 ],\n",
       "       [ 27.69313   , -12.027433  ],\n",
       "       [ 27.183302  , -11.5287    ],\n",
       "       [ -0.89326304, -10.808587  ],\n",
       "       [  7.3295264 ,  -2.6698058 ],\n",
       "       [ -0.8191102 ,   4.669226  ],\n",
       "       [ 28.266184  , -12.764757  ],\n",
       "       [-11.7419405 ,  18.116385  ],\n",
       "       [ -0.35324088,  -4.8251276 ],\n",
       "       [  2.523231  ,   3.7131457 ],\n",
       "       [-12.172812  ,   4.516989  ],\n",
       "       [ -7.760004  ,  10.890885  ],\n",
       "       [ -7.6630874 ,  13.976012  ],\n",
       "       [-13.796075  ,   7.0256276 ],\n",
       "       [ 24.129444  ,  -9.423009  ],\n",
       "       [  7.095372  ,  -2.361607  ],\n",
       "       [ 26.913082  , -12.74782   ],\n",
       "       [ 27.17651   , -13.720467  ],\n",
       "       [ 24.684662  ,  -8.424561  ],\n",
       "       [ 28.301851  , -11.417024  ],\n",
       "       [ -6.3593354 , -11.667063  ],\n",
       "       [ 34.771168  , -12.690245  ],\n",
       "       [  3.6111748 ,   5.303942  ],\n",
       "       [-11.660683  ,   6.817017  ],\n",
       "       [ 36.21457   , -12.553608  ],\n",
       "       [ -0.2689978 ,   5.5025167 ],\n",
       "       [  7.897218  ,  -3.4547658 ],\n",
       "       [ -0.15352355,   6.242921  ],\n",
       "       [ 11.717602  ,  -2.243451  ],\n",
       "       [ -7.455636  ,   2.7146533 ],\n",
       "       [ 35.651928  , -13.248582  ],\n",
       "       [ 29.109896  , -13.2100725 ],\n",
       "       [ -6.7591486 ,   3.1026313 ],\n",
       "       [-16.913027  ,  21.235418  ],\n",
       "       [ -8.655846  ,  11.2165785 ],\n",
       "       [-14.849501  ,  12.326757  ],\n",
       "       [ -4.5047035 ,   4.205777  ],\n",
       "       [ -3.0569448 , -11.176053  ],\n",
       "       [-14.462616  ,   0.8049897 ],\n",
       "       [  3.2114003 ,  -7.527887  ],\n",
       "       [-15.81206   ,  22.572968  ],\n",
       "       [ 10.069102  ,  -1.6071767 ],\n",
       "       [ 29.047441  , -14.198178  ],\n",
       "       [-14.24802   ,   0.5305247 ],\n",
       "       [ 25.698858  , -11.003539  ],\n",
       "       [ -6.979241  ,   5.9749336 ],\n",
       "       [ -7.036332  ,   0.25082874],\n",
       "       [ -4.0125027 , -13.299859  ],\n",
       "       [  8.9965315 ,  -1.0607443 ],\n",
       "       [  2.9999719 ,  -7.360484  ],\n",
       "       [-12.362158  ,  14.660537  ],\n",
       "       [-14.020662  ,   0.18365507],\n",
       "       [-15.163064  ,  21.301405  ],\n",
       "       [ 28.68018   ,  -5.586242  ],\n",
       "       [-15.063223  ,   7.4222655 ],\n",
       "       [ -5.999512  ,   8.509157  ],\n",
       "       [  1.1566659 ,  -7.092809  ],\n",
       "       [  4.7411003 ,   5.846634  ],\n",
       "       [ -8.93804   ,  -4.747916  ],\n",
       "       [-16.520733  ,  15.521498  ],\n",
       "       [-15.358877  ,  21.149502  ],\n",
       "       [ 28.52797   , -10.1298065 ],\n",
       "       [  1.7976238 ,  -6.9255247 ],\n",
       "       [-11.701961  ,   0.7384521 ],\n",
       "       [ -4.7166953 , -13.06291   ],\n",
       "       [-13.612161  ,  18.480122  ],\n",
       "       [ -8.673431  ,   4.0534406 ],\n",
       "       [ -5.2149897 , -13.174592  ],\n",
       "       [-10.157437  ,  -4.721781  ],\n",
       "       [-14.677011  ,   8.353412  ],\n",
       "       [-15.147799  ,   7.427651  ],\n",
       "       [ -8.989954  ,   4.801945  ],\n",
       "       [ 26.351358  , -11.20214   ],\n",
       "       [ 11.407151  ,  -3.3525374 ],\n",
       "       [ -1.8555396 ,   3.4803703 ],\n",
       "       [ -1.7224553 ,   5.691781  ],\n",
       "       [-13.122596  ,   9.421736  ],\n",
       "       [ -2.5243883 ,  -4.3094087 ],\n",
       "       [ 27.7683    , -17.053568  ],\n",
       "       [ -1.7667685 ,   5.4126835 ],\n",
       "       [-13.479348  ,  18.25827   ],\n",
       "       [-12.290091  ,   4.832309  ],\n",
       "       [ 11.75304   ,  -2.448125  ],\n",
       "       [-16.290361  ,  14.788508  ],\n",
       "       [ 28.408588  , -14.026462  ],\n",
       "       [ 26.265783  , -14.790751  ],\n",
       "       [ -5.652559  ,   4.7027917 ],\n",
       "       [-14.042702  ,   2.262929  ],\n",
       "       [ -8.556237  ,   0.07705446],\n",
       "       [-13.770642  ,   7.40095   ],\n",
       "       [-14.027161  ,  22.140394  ],\n",
       "       [ 37.238537  , -13.62445   ],\n",
       "       [  7.008517  ,  -2.3404922 ],\n",
       "       [ 27.342236  ,  -9.084835  ],\n",
       "       [ 36.43986   , -12.787084  ],\n",
       "       [ -9.9457035 ,  13.607355  ],\n",
       "       [ 26.604364  , -10.974201  ],\n",
       "       [ -0.8531345 ,  -4.6837735 ],\n",
       "       [ -9.667461  ,   5.64211   ],\n",
       "       [ -7.0134287 ,  -1.5571952 ],\n",
       "       [ -7.6152034 ,  -3.987355  ],\n",
       "       [-13.9341545 ,  15.387486  ],\n",
       "       [ 36.237537  , -16.220907  ],\n",
       "       [-11.564857  ,   4.105873  ],\n",
       "       [ 26.358362  , -13.407934  ],\n",
       "       [ 30.127056  , -14.014626  ],\n",
       "       [ -8.698112  ,   5.570044  ],\n",
       "       [  2.1639502 ,   1.9172723 ],\n",
       "       [ -7.302928  ,   1.3629613 ],\n",
       "       [  2.112051  ,   5.260594  ],\n",
       "       [ 29.330992  , -11.769301  ],\n",
       "       [-12.745997  ,   2.3121612 ],\n",
       "       [ 26.866974  , -15.226811  ],\n",
       "       [-10.219976  ,   6.5894995 ],\n",
       "       [  3.564184  ,   4.722596  ],\n",
       "       [ -5.187231  , -12.059688  ],\n",
       "       [ 30.413504  , -17.685696  ],\n",
       "       [ -1.4948828 ,   8.332008  ],\n",
       "       [  2.155792  ,   5.599251  ],\n",
       "       [ 10.574395  ,  -0.5643768 ],\n",
       "       [ 30.938877  , -18.097445  ],\n",
       "       [ -7.043796  ,  -0.7241926 ],\n",
       "       [ -2.233011  ,   9.269761  ],\n",
       "       [-11.795698  ,  19.15355   ],\n",
       "       [ 28.487682  , -12.732854  ],\n",
       "       [-11.732005  ,   6.829865  ],\n",
       "       [ -3.9501636 ,  12.054222  ],\n",
       "       [  3.573261  ,   3.500596  ],\n",
       "       [ -0.66502804,  -4.789171  ],\n",
       "       [ -7.7882953 ,   0.32725605],\n",
       "       [  2.6905413 ,   3.1044855 ],\n",
       "       [-11.890826  ,  21.532652  ],\n",
       "       [ -3.6252556 , -13.828339  ],\n",
       "       [  9.202669  ,  -1.3599528 ],\n",
       "       [ 25.71918   ,  -8.245089  ],\n",
       "       [ 35.54952   , -12.780845  ],\n",
       "       [-11.8113985 ,  21.824604  ],\n",
       "       [ 26.9656    , -17.41664   ],\n",
       "       [ -2.738901  ,  -4.2622366 ],\n",
       "       [ 28.39663   , -17.510159  ],\n",
       "       [  9.901284  ,  -1.3237348 ],\n",
       "       [-13.217492  ,  19.486164  ],\n",
       "       [-14.542814  ,   7.476613  ],\n",
       "       [  9.379468  ,  -0.44196436],\n",
       "       [-15.165467  ,  19.318396  ],\n",
       "       [-12.152868  ,   6.2233324 ],\n",
       "       [-15.361379  ,  10.335227  ],\n",
       "       [-17.447306  ,  19.635933  ],\n",
       "       [ 27.582123  , -16.223804  ],\n",
       "       [-12.744524  ,  21.086817  ],\n",
       "       [ 29.688873  , -11.266965  ],\n",
       "       [-10.249645  ,  14.652004  ],\n",
       "       [ -4.4880424 ,   4.21004   ],\n",
       "       [ -2.7727962 ,   4.187978  ],\n",
       "       [ -2.8521857 ,   4.942404  ],\n",
       "       [ -6.7440963 , -11.912992  ],\n",
       "       [  7.337077  ,  -2.671765  ],\n",
       "       [ -0.5435751 , -10.765856  ],\n",
       "       [  0.8126672 ,   3.6922872 ],\n",
       "       [ -3.5222964 ,   3.3277135 ],\n",
       "       [-13.777021  ,  15.826936  ],\n",
       "       [ 26.709856  , -12.229183  ],\n",
       "       [ 27.047386  , -14.805921  ],\n",
       "       [  1.8850919 ,   4.4343166 ],\n",
       "       [ 28.821842  , -11.600084  ],\n",
       "       [-15.05474   ,   1.9267547 ],\n",
       "       [-10.101994  ,  12.103457  ],\n",
       "       [-12.29927   ,   1.7231375 ],\n",
       "       [-12.189614  ,  22.980776  ],\n",
       "       [ 36.36056   , -14.221222  ],\n",
       "       [ -1.4900367 ,   6.2648335 ],\n",
       "       [  3.387983  ,   4.745188  ],\n",
       "       [ 28.191526  , -13.169724  ],\n",
       "       [-11.611182  ,  12.845126  ],\n",
       "       [  9.052395  ,  -0.46012166],\n",
       "       [ 23.974037  ,  -8.431682  ],\n",
       "       [-13.129188  ,  11.171855  ],\n",
       "       [-10.069679  ,   8.930794  ],\n",
       "       [  0.53954434,   6.632342  ],\n",
       "       [-15.9146    ,  21.338066  ],\n",
       "       [  7.764739  ,  -3.2964087 ],\n",
       "       [  3.7682307 ,   5.970909  ],\n",
       "       [ 29.104143  , -10.166049  ],\n",
       "       [-10.055498  ,   6.3991065 ],\n",
       "       [ 35.384933  , -13.833036  ],\n",
       "       [  0.538502  ,   2.8726554 ],\n",
       "       [ -3.8518949 , -11.986014  ],\n",
       "       [ 28.840643  , -14.867434  ],\n",
       "       [  2.5849037 ,   1.9653598 ],\n",
       "       [ 35.91544   , -13.978512  ],\n",
       "       [ 28.811079  ,  -5.7852883 ],\n",
       "       [  2.5645635 ,  -7.1102185 ],\n",
       "       [ -7.1304054 ,  -1.0531262 ],\n",
       "       [ -7.9260306 ,  14.031654  ],\n",
       "       [ 25.502367  , -13.980262  ],\n",
       "       [  2.1559107 ,  -6.7540016 ],\n",
       "       [ 25.487202  ,  -7.5235534 ],\n",
       "       [ -2.2619298 ,   3.626037  ],\n",
       "       [-15.651083  ,  18.994263  ],\n",
       "       [ -7.620834  ,  -1.0704373 ],\n",
       "       [-13.992755  ,   0.09891275],\n",
       "       [-10.135533  ,  16.679644  ],\n",
       "       [-15.949187  ,   9.683032  ],\n",
       "       [-17.487547  ,  14.086316  ],\n",
       "       [ -8.226012  ,  11.085591  ],\n",
       "       [ 25.392668  ,  -7.727729  ],\n",
       "       [-17.021097  ,  16.174004  ],\n",
       "       [ 35.73584   , -14.996248  ],\n",
       "       [ 27.360352  , -18.19034   ],\n",
       "       [ 29.231043  , -16.53936   ],\n",
       "       [-11.503822  ,  19.129513  ],\n",
       "       [ -7.424591  ,  -3.814357  ],\n",
       "       [ 24.08358   ,  -8.826206  ],\n",
       "       [-13.520629  ,   7.107003  ],\n",
       "       [ -0.9559609 ,   7.059038  ],\n",
       "       [-11.969265  ,  22.775137  ],\n",
       "       [-12.475987  ,  17.444756  ],\n",
       "       [  8.992284  ,  -0.8464543 ],\n",
       "       [ -8.645947  ,  -4.6298947 ],\n",
       "       [-12.739406  ,   7.923312  ],\n",
       "       [-13.762941  ,  20.706442  ],\n",
       "       [ 26.055696  ,  -9.7226715 ],\n",
       "       [-15.600329  ,  19.061249  ],\n",
       "       [ 27.430756  , -12.967799  ],\n",
       "       [-10.861712  ,  18.284306  ],\n",
       "       [-16.875631  ,  13.469796  ],\n",
       "       [ -0.8680684 ,   4.8197985 ],\n",
       "       [ 36.22361   , -14.880838  ],\n",
       "       [ -6.825369  ,   2.1373072 ],\n",
       "       [ -0.79905695, -10.804418  ],\n",
       "       [ -2.3967695 ,   4.864549  ],\n",
       "       [-15.407006  ,   8.84879   ],\n",
       "       [-12.014909  ,  18.841002  ],\n",
       "       [-13.343522  ,   9.475963  ],\n",
       "       [ 30.85058   , -12.1365595 ],\n",
       "       [-10.742214  ,  15.526271  ],\n",
       "       [-14.688292  ,   1.3058543 ],\n",
       "       [-16.687735  ,  13.580992  ],\n",
       "       [ -4.0371475 ,   6.9572983 ],\n",
       "       [-12.374827  ,   4.902244  ],\n",
       "       [ -7.8190956 ,   6.982849  ],\n",
       "       [ 36.613926  , -13.213009  ],\n",
       "       [ 27.359398  , -11.278231  ],\n",
       "       [ 26.55926   , -15.402529  ],\n",
       "       [ 36.579983  , -12.086808  ],\n",
       "       [-14.496875  ,  12.259813  ],\n",
       "       [ 25.824272  ,  -9.487801  ],\n",
       "       [  0.14320429,  -5.095616  ],\n",
       "       [ 26.853731  , -16.333666  ],\n",
       "       [ -3.4685922 , -12.71373   ],\n",
       "       [-15.406016  ,  10.360146  ],\n",
       "       [ 24.072454  , -13.600083  ],\n",
       "       [-14.554417  ,  12.970335  ],\n",
       "       [-16.359785  ,  10.130856  ],\n",
       "       [  3.3067842 ,   6.0782704 ],\n",
       "       [ 30.091192  , -17.670366  ],\n",
       "       [ -7.067193  ,   4.9891357 ],\n",
       "       [-14.5960455 ,  21.517097  ],\n",
       "       [  2.219239  ,   4.3216257 ],\n",
       "       [ 25.442451  , -13.0777855 ],\n",
       "       [ -3.7447393 , -13.827044  ],\n",
       "       [-15.230362  ,  12.158149  ],\n",
       "       [  2.2372491 ,   1.9545485 ],\n",
       "       [  4.5871463 ,   6.1775255 ],\n",
       "       [-11.977718  ,  21.930588  ],\n",
       "       [ -9.799198  ,   8.7617655 ]], dtype=float32)"
      ]
     },
     "execution_count": 43,
     "metadata": {},
     "output_type": "execute_result"
    }
   ],
   "source": [
    "x_train_tsne"
   ]
  },
  {
   "cell_type": "code",
   "execution_count": 46,
   "id": "5dfe10f4",
   "metadata": {},
   "outputs": [
    {
     "data": {
      "text/plain": [
       "(354, 2)"
      ]
     },
     "execution_count": 46,
     "metadata": {},
     "output_type": "execute_result"
    }
   ],
   "source": [
    "x_train_tsne.shape"
   ]
  },
  {
   "cell_type": "code",
   "execution_count": 49,
   "id": "87bd025e",
   "metadata": {},
   "outputs": [
    {
     "data": {
      "image/png": "[encoded data removed]",
      "text/plain": [
       "<Figure size 432x288 with 1 Axes>"
      ]
     },
     "metadata": {
      "needs_background": "light"
     },
     "output_type": "display_data"
    }
   ],
   "source": [
    "import matplotlib.pyplot as plt\n",
    "plt.scatter(x_train_tsne[:,0], x_train_tsne[:,1])\n",
    "plt.show()"
   ]
  },
  {
   "cell_type": "markdown",
   "id": "2f48eb1f",
   "metadata": {},
   "source": [
    "Задание 2\n",
    "\n",
    "С помощью KMeans разбейте данные из тренировочного набора на 3 кластера,\n",
    "используйте все признаки из датафрейма X_train.\n",
    "Параметр max_iter должен быть равен 100, random_state сделайте равным 42.\n",
    "Постройте еще раз диаграмму рассеяния на данных, полученных с помощью TSNE,\n",
    "и раскрасьте точки из разных кластеров разными цветами.\n",
    "Вычислите средние значения price и CRIM в разных кластерах.\n"
   ]
  },
  {
   "cell_type": "code",
   "execution_count": 50,
   "id": "e81ab38d",
   "metadata": {},
   "outputs": [],
   "source": [
    "from sklearn.cluster import KMeans"
   ]
  },
  {
   "cell_type": "code",
   "execution_count": 51,
   "id": "5dfd9a27",
   "metadata": {},
   "outputs": [],
   "source": [
    "kmeans = KMeans(n_clusters=3, max_iter = 100, random_state = 42)"
   ]
  },
  {
   "cell_type": "code",
   "execution_count": 52,
   "id": "a89deaf9",
   "metadata": {},
   "outputs": [],
   "source": [
    "labels_train = kmeans.fit_predict(x_train_scaled)"
   ]
  },
  {
   "cell_type": "code",
   "execution_count": 53,
   "id": "d9d7f5a4",
   "metadata": {},
   "outputs": [
    {
     "data": {
      "text/plain": [
       "0    180\n",
       "1    113\n",
       "2     61\n",
       "dtype: int64"
      ]
     },
     "execution_count": 53,
     "metadata": {},
     "output_type": "execute_result"
    }
   ],
   "source": [
    "pd.value_counts(labels_train)"
   ]
  },
  {
   "cell_type": "code",
   "execution_count": 54,
   "id": "41cdaa21",
   "metadata": {},
   "outputs": [],
   "source": [
    "label_test = kmeans.predict(x_test_scaled)"
   ]
  },
  {
   "cell_type": "code",
   "execution_count": 58,
   "id": "d9e3af23",
   "metadata": {},
   "outputs": [
    {
     "data": {
      "image/png": "[encoded data removed]",
      "text/plain": [
       "<Figure size 432x288 with 1 Axes>"
      ]
     },
     "metadata": {
      "needs_background": "light"
     },
     "output_type": "display_data"
    }
   ],
   "source": [
    "plt.scatter(x_train_tsne[:, 0], x_train_tsne[:,1], c=labels_train)\n",
    "plt.show()\n"
   ]
  },
  {
   "cell_type": "code",
   "execution_count": 63,
   "id": "b213791b",
   "metadata": {},
   "outputs": [
    {
     "data": {
      "text/plain": [
       "22.595762711864406"
      ]
     },
     "execution_count": 63,
     "metadata": {},
     "output_type": "execute_result"
    }
   ],
   "source": [
    "y_train.mean()"
   ]
  },
  {
   "cell_type": "code",
   "execution_count": 76,
   "id": "a928f43f",
   "metadata": {},
   "outputs": [
    {
     "data": {
      "text/plain": [
       "24.410555555555554"
      ]
     },
     "execution_count": 76,
     "metadata": {},
     "output_type": "execute_result"
    }
   ],
   "source": [
    "# Кластер 0 = средняя цена\n",
    "y_train[labels_train==0].mean()"
   ]
  },
  {
   "cell_type": "code",
   "execution_count": 77,
   "id": "f783adea",
   "metadata": {},
   "outputs": [
    {
     "data": {
      "text/plain": [
       "16.00353982300885"
      ]
     },
     "execution_count": 77,
     "metadata": {},
     "output_type": "execute_result"
    }
   ],
   "source": [
    "## Кластер 1 = средняя цена\n",
    "y_train[labels_train==1].mean()"
   ]
  },
  {
   "cell_type": "code",
   "execution_count": 79,
   "id": "b706fbf7",
   "metadata": {},
   "outputs": [
    {
     "data": {
      "text/plain": [
       "29.452459016393444"
      ]
     },
     "execution_count": 79,
     "metadata": {},
     "output_type": "execute_result"
    }
   ],
   "source": [
    "# Кластер 2 = средняя цена\n",
    "y_train[labels_train==2].mean()"
   ]
  },
  {
   "cell_type": "code",
   "execution_count": 126,
   "id": "d034db06",
   "metadata": {},
   "outputs": [
    {
     "data": {
      "image/png": "[encoded data removed]",
      "text/plain": [
       "<Figure size 432x288 with 1 Axes>"
      ]
     },
     "metadata": {
      "needs_background": "light"
     },
     "output_type": "display_data"
    }
   ],
   "source": [
    "plt.hist(y_train[labels_train==0], bins = 20, density = True, alpha=0.5)\n",
    "plt.hist(y_train[labels_train==1], bins = 20, density = True, alpha=0.5)\n",
    "plt.hist(y_train[labels_train==2], bins = 20, density = True, alpha=0.5)\n",
    "plt.legend(['Кластер 0', 'Кластер 1', 'Кластер 2'])\n",
    "plt.xlabel('Цена')\n",
    "plt.show()"
   ]
  },
  {
   "cell_type": "code",
   "execution_count": 80,
   "id": "e5cfee2f",
   "metadata": {},
   "outputs": [
    {
     "data": {
      "text/plain": [
       "0.3647895555555555"
      ]
     },
     "execution_count": 80,
     "metadata": {},
     "output_type": "execute_result"
    }
   ],
   "source": [
    "# Кластер 0  - кол-во преступлений % на душу населения\n",
    "x_train.loc[labels_train==0, 'CRIM'].mean()"
   ]
  },
  {
   "cell_type": "code",
   "execution_count": 81,
   "id": "837d567c",
   "metadata": {},
   "outputs": [
    {
     "data": {
      "text/plain": [
       "9.711018407079646"
      ]
     },
     "execution_count": 81,
     "metadata": {},
     "output_type": "execute_result"
    }
   ],
   "source": [
    "# Кластер 1 - кол-во преступлений % на душу населения\n",
    "x_train.loc[labels_train==1, 'CRIM'].mean()"
   ]
  },
  {
   "cell_type": "code",
   "execution_count": 75,
   "id": "5259b464",
   "metadata": {},
   "outputs": [
    {
     "data": {
      "text/plain": [
       "0.06710524590163933"
      ]
     },
     "execution_count": 75,
     "metadata": {},
     "output_type": "execute_result"
    }
   ],
   "source": [
    "# Кластер 2 - кол-во преступлений % на душу населения\n",
    "x_train.loc[labels_train==2, 'CRIM'].mean()"
   ]
  },
  {
   "cell_type": "code",
   "execution_count": 114,
   "id": "fa8b4d73",
   "metadata": {},
   "outputs": [
    {
     "data": {
      "image/png": "[encoded data removed]",
      "text/plain": [
       "<Figure size 432x288 with 1 Axes>"
      ]
     },
     "metadata": {
      "needs_background": "light"
     },
     "output_type": "display_data"
    }
   ],
   "source": [
    "plt.hist(x_train.loc[labels_train==0, 'CRIM'], bins = 10, alpha=1)\n",
    "plt.hist(x_train.loc[labels_train==1, 'CRIM'], bins = 10, alpha=0.5)\n",
    "plt.hist(x_train.loc[labels_train==2, 'CRIM'], bins = 10, alpha=1)\n",
    "plt.xlim(0, 20)\n",
    "plt.legend(['Кластер 0', 'Кластер 1', 'Кластер 2'])\n",
    "plt.xlabel('CRIM')\n",
    "plt.ylabel('Население')\n",
    "plt.show()"
   ]
  },
  {
   "cell_type": "markdown",
   "id": "81bd0f15",
   "metadata": {},
   "source": [
    "*Задание 3\n",
    "Примените модель KMeans, построенную в предыдущем задании,\n",
    "к данным из тестового набора.\n",
    "Вычислите средние значения price и CRIM в разных кластерах на тестовых данных.\n"
   ]
  },
  {
   "cell_type": "code",
   "execution_count": 130,
   "id": "5ae830d0",
   "metadata": {},
   "outputs": [],
   "source": [
    "label_test = kmeans.predict(x_test_scaled)"
   ]
  },
  {
   "cell_type": "code",
   "execution_count": 131,
   "id": "1e77c68c",
   "metadata": {},
   "outputs": [
    {
     "data": {
      "text/plain": [
       "34.1625"
      ]
     },
     "execution_count": 131,
     "metadata": {},
     "output_type": "execute_result"
    }
   ],
   "source": [
    "# # Кластер 0 Средняя цена\n",
    "y_test[label_test == 0].mean()"
   ]
  },
  {
   "cell_type": "code",
   "execution_count": 132,
   "id": "da9f83e0",
   "metadata": {},
   "outputs": [
    {
     "data": {
      "text/plain": [
       "0.46247750000000004"
      ]
     },
     "execution_count": 132,
     "metadata": {},
     "output_type": "execute_result"
    }
   ],
   "source": [
    "# Кластер 0  - кол-во преступлений % на душу населения\n",
    "x_test.loc[label_test == 0, 'CRIM'].mean()"
   ]
  },
  {
   "cell_type": "code",
   "execution_count": 133,
   "id": "ace4e24c",
   "metadata": {},
   "outputs": [
    {
     "data": {
      "text/plain": [
       "19.894166666666667"
      ]
     },
     "execution_count": 133,
     "metadata": {},
     "output_type": "execute_result"
    }
   ],
   "source": [
    "# # Кластер 1 Средняя цена\n",
    "y_test[label_test == 1].mean()"
   ]
  },
  {
   "cell_type": "code",
   "execution_count": 134,
   "id": "3164b814",
   "metadata": {},
   "outputs": [
    {
     "data": {
      "text/plain": [
       "5.173034583333332"
      ]
     },
     "execution_count": 134,
     "metadata": {},
     "output_type": "execute_result"
    }
   ],
   "source": [
    "# Кластер 1  - кол-во преступлений % на душу населения\n",
    "x_test.loc[label_test == 1, 'CRIM'].mean()"
   ]
  },
  {
   "cell_type": "code",
   "execution_count": 135,
   "id": "37c6919a",
   "metadata": {},
   "outputs": [
    {
     "data": {
      "text/plain": [
       "24.4375"
      ]
     },
     "execution_count": 135,
     "metadata": {},
     "output_type": "execute_result"
    }
   ],
   "source": [
    "# # Кластер 2 Средняя цена\n",
    "y_test[label_test == 2].mean()"
   ]
  },
  {
   "cell_type": "code",
   "execution_count": 136,
   "id": "83911032",
   "metadata": {},
   "outputs": [
    {
     "data": {
      "text/plain": [
       "3.6848362500000005"
      ]
     },
     "execution_count": 136,
     "metadata": {},
     "output_type": "execute_result"
    }
   ],
   "source": [
    "# Кластер 2  - кол-во преступлений % на душу населения\n",
    "x_test.loc[label_test == 2, 'CRIM'].mean()"
   ]
  },
  {
   "cell_type": "code",
   "execution_count": 137,
   "id": "6134478b",
   "metadata": {},
   "outputs": [
    {
     "data": {
      "image/png": "[encoded data removed]",
      "text/plain": [
       "<Figure size 432x288 with 1 Axes>"
      ]
     },
     "metadata": {
      "needs_background": "light"
     },
     "output_type": "display_data"
    }
   ],
   "source": [
    "plt.hist(y_test[label_test==0], bins = 20, density = True, alpha=0.5)\n",
    "plt.hist(y_test[label_test==1], bins = 20, density = True, alpha=0.5)\n",
    "plt.hist(y_test[label_test==2], bins = 20, density = True, alpha=0.5)\n",
    "plt.legend(['Кластер 0', 'Кластер 1', 'Кластер 2'])\n",
    "plt.xlabel('Цена')\n",
    "plt.show()"
   ]
  },
  {
   "cell_type": "code",
   "execution_count": null,
   "id": "d30a02b9",
   "metadata": {},
   "outputs": [],
   "source": []
  },
  {
   "cell_type": "code",
   "execution_count": null,
   "id": "45b26561",
   "metadata": {},
   "outputs": [],
   "source": []
  }
 ],
 "metadata": {
  "kernelspec": {
   "display_name": "Python 3 (ipykernel)",
   "language": "python",
   "name": "python3"
  },
  "language_info": {
   "codemirror_mode": {
    "name": "ipython",
    "version": 3
   },
   "file_extension": ".py",
   "mimetype": "text/x-python",
   "name": "python",
   "nbconvert_exporter": "python",
   "pygments_lexer": "ipython3",
   "version": "3.8.8"
  }
 },
 "nbformat": 4,
 "nbformat_minor": 5
}
